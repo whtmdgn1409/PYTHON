{
  "nbformat": 4,
  "nbformat_minor": 0,
  "metadata": {
    "colab": {
      "name": "Python_3장_02_variables.ipynb",
      "provenance": [],
      "collapsed_sections": [],
      "include_colab_link": true
    },
    "kernelspec": {
      "name": "python3",
      "display_name": "Python 3"
    }
  },
  "cells": [
    {
      "cell_type": "markdown",
      "metadata": {
        "id": "view-in-github",
        "colab_type": "text"
      },
      "source": [
        "<a href=\"https://colab.research.google.com/github/whtmdgn1409/PYTHON/blob/main/Python_3%EC%9E%A5_02_variables.ipynb\" target=\"_parent\"><img src=\"https://colab.research.google.com/assets/colab-badge.svg\" alt=\"Open In Colab\"/></a>"
      ]
    },
    {
      "cell_type": "markdown",
      "metadata": {
        "id": "0bKbR2h1BnZc"
      },
      "source": [
        "# 변수(variables)라는 개념에 대해서 공부해보자.\n",
        "- 컴퓨터는 사용하는 데이터를 주기억장치에 보관해서 사용한다.\n",
        "- 이 값을 CPU로 가져와서 사용하려면,\n",
        "- 그 변수가 위치한 곳의 주소를 일일이 기억해야하는데...\n",
        "- 그게 귀찮아서, 이름을 붙여서 사용하는데\n",
        "- 그것이 바로 '변수'다.\n",
        "- 일단 지금은 '변수'는 값을 저장하는 '그릇'이라고 생각하자."
      ]
    },
    {
      "cell_type": "code",
      "metadata": {
        "id": "r5g60aYpt3kg"
      },
      "source": [
        "# 아래의 예제를 살펴보자. \n",
        "# 아래는 다양한 변수를 만들고, 원하는 값을 저장해서 사용한다.\n",
        "\n",
        "my_number = 100 # 정수형 변수\n",
        "my_name   = \"Kim\" # 문자열 변수\n",
        "my_height = 172.3 # 실수형 변수\n",
        "is_middle_school = True # 불리언(boolean) 변수\n",
        "\n",
        "# author_name = \"JUNGKEECHUL\""
      ],
      "execution_count": null,
      "outputs": []
    },
    {
      "cell_type": "markdown",
      "metadata": {
        "id": "STPWQjwUCBR1"
      },
      "source": [
        "# 위와 같이 다양한 형태의 값들이 있다.\n",
        "- 우리가 수학 시간에 사용하는 '자연수', '정수', '실수', '허수' 들 처럼..\n",
        "- 컴퓨터에서도 다양한 형태의 값들을 사용할 수 있다."
      ]
    },
    {
      "cell_type": "code",
      "metadata": {
        "id": "sosq5H3OX-TE",
        "outputId": "12357fd1-1986-40e1-dec9-bb2c5fbd3672",
        "colab": {
          "base_uri": "https://localhost:8080/",
          "height": 90
        }
      },
      "source": [
        "# 변수가 가지고 있는 값을 print() 함수로 출력할 수 있다.\n",
        "print(my_number)\n",
        "print(my_name)\n",
        "print(my_height)\n",
        "print(is_middle_school)"
      ],
      "execution_count": null,
      "outputs": [
        {
          "output_type": "stream",
          "text": [
            "100\n",
            "Kim\n",
            "172.3\n",
            "True\n"
          ],
          "name": "stdout"
        }
      ]
    },
    {
      "cell_type": "markdown",
      "metadata": {
        "id": "WAhG7imsCdYs"
      },
      "source": [
        "# 위에서 변수 이름을 정하는 특별한 형태를 참고하자.\n",
        "# 변수의 이름이 기능/역할/의미를 파악할 수 있도록 상세하게 만드는게 좋다.\n",
        "# 위와 같이 underscore를 통해서 변수의 이름을 만드는 것이 일반적이다."
      ]
    },
    {
      "cell_type": "code",
      "metadata": {
        "id": "XKoKZaAZIpXl",
        "outputId": "f9b03b0e-a8fa-4286-f761-1ee0ede24db9",
        "colab": {
          "base_uri": "https://localhost:8080/",
          "height": 90
        }
      },
      "source": [
        "# 변수의 자료형은 type() 함수로 확인할 수 있다.\n",
        "print(type(my_number))\n",
        "print(type(my_name))\n",
        "print(type(my_height))\n",
        "print(type(is_middle_school))\n",
        "\n",
        "\n",
        "# 아래 출력 결과 중에서 '    ' 부분을 보면 된다."
      ],
      "execution_count": null,
      "outputs": [
        {
          "output_type": "stream",
          "text": [
            "<class 'int'>\n",
            "<class 'str'>\n",
            "<class 'float'>\n",
            "<class 'bool'>\n"
          ],
          "name": "stdout"
        }
      ]
    },
    {
      "cell_type": "markdown",
      "metadata": {
        "id": "gzdvpLcbCwhb"
      },
      "source": [
        "# 이제 2번째 함수 type() 함수를 배웠다.\n",
        "- type() 함수의 파라미터로 주어지는 변수의 type(자료형)을 '반환'한다."
      ]
    },
    {
      "cell_type": "markdown",
      "metadata": {
        "id": "7dAQfP55C9ej"
      },
      "source": [
        "# print(type(my_number)) 이 문장에 대해서 더 이야기를 해보자.\n",
        "- 이 문장은 type(my_number)라는 함수가 가장 먼저 실행된다.\n",
        "- 이 type() 함수는 파라미터의 자료형을 '반환'한다.\n",
        "- 여기서 '반환한다'는 의미는 sin(30) 함수처럼, 계산된 결과값을 돌려주는 것을 의미한다.\n",
        "- print() 함수는 반환된 '그' 값을 출력한다."
      ]
    },
    {
      "cell_type": "code",
      "metadata": {
        "id": "Lbu8o82FooWp",
        "outputId": "add7dc63-5953-4d91-a387-8c365bc9d5ba",
        "colab": {
          "base_uri": "https://localhost:8080/",
          "height": 53
        }
      },
      "source": [
        "# 함수의 반환값은 아래와 같이 변수에 담아서 사용할 수 있다.\n",
        "a = type(my_name)\n",
        "print(a)\n",
        "\n",
        "print(type(my_name))"
      ],
      "execution_count": null,
      "outputs": [
        {
          "output_type": "stream",
          "text": [
            "<class 'str'>\n",
            "<class 'str'>\n"
          ],
          "name": "stdout"
        }
      ]
    },
    {
      "cell_type": "code",
      "metadata": {
        "id": "Y2G5O88EIYwt",
        "outputId": "7008a489-ef10-4356-af36-2867e32c0c34",
        "colab": {
          "base_uri": "https://localhost:8080/",
          "height": 53
        }
      },
      "source": [
        "# 변수에 새로운 값을 넣으면 기존 값은 지워지고 새로운 값으로 대체된다.\n",
        "\n",
        "a = 10\n",
        "print(a)\n",
        "\n",
        "a = 20\n",
        "print(a)"
      ],
      "execution_count": null,
      "outputs": [
        {
          "output_type": "stream",
          "text": [
            "10\n",
            "20\n"
          ],
          "name": "stdout"
        }
      ]
    },
    {
      "cell_type": "code",
      "metadata": {
        "id": "vF0ko43FaJe_",
        "outputId": "d60884aa-7fa2-4d43-e192-02e75729629c",
        "colab": {
          "base_uri": "https://localhost:8080/",
          "height": 35
        }
      },
      "source": [
        "is_middle_school = False\n",
        "\n",
        "print(is_middle_school)\n",
        "\n",
        "# Boolean 자료형은 True 또는 False 값만 저장할 수 있다.\n",
        "# True/ False의 첫 글자는 '대문자'\n",
        "# is_middle_school = YES"
      ],
      "execution_count": null,
      "outputs": [
        {
          "output_type": "stream",
          "text": [
            "False\n"
          ],
          "name": "stdout"
        }
      ]
    },
    {
      "cell_type": "code",
      "metadata": {
        "id": "udjE11_VIgZ0",
        "outputId": "5f536c03-9f0f-4e9a-8006-e9e8373fa418",
        "colab": {
          "base_uri": "https://localhost:8080/",
          "height": 126
        }
      },
      "source": [
        "# 동적 타입 바인딩이라서 프로그램 실행 중에 변수의 자료형을 바꿀 수 있다.\n",
        "# 동적 타입 바인딩(dynamic type binding)은 파이썬에서 아주 중요한 개념이다.\n",
        "# 이 점이 C 언어와 같은 정적 타입 바인딩 언어와 큰 차이점이다.\n",
        "# 향후에 자세하게 설명하자.\n",
        "# 지금은 아래와 같이 기억하자.\n",
        "# 변수에는 '아무런 값이나 마구 마구 저자할 수 있다!!!'\n",
        "\n",
        "a = 10\n",
        "print(a)\n",
        "print(type(a))\n",
        "\n",
        "a = 10.1\n",
        "print(a)\n",
        "print(type(a))\n",
        "\n",
        "a = \"fasdfasfdsfsadfsdadsafsdafsdafsdafds\"\n",
        "print(a)\n",
        "print(type(a))"
      ],
      "execution_count": null,
      "outputs": [
        {
          "output_type": "stream",
          "text": [
            "10\n",
            "<class 'int'>\n",
            "10.1\n",
            "<class 'float'>\n",
            "fasdfasfdsfsadfsdadsafsdafsdafsdafds\n",
            "<class 'str'>\n"
          ],
          "name": "stdout"
        }
      ]
    },
    {
      "cell_type": "code",
      "metadata": {
        "id": "xi8tYayCuI6r",
        "outputId": "1d3b0943-678b-46c0-cf18-7f5acae61041",
        "colab": {
          "base_uri": "https://localhost:8080/",
          "height": 52
        }
      },
      "source": [
        "# 변수에 값을 대입하고 이를 이용해서 수식 계산을 해보자.\n",
        "\n",
        "i = 10\n",
        "j = 20\n",
        "\n",
        "add = i + j # 덧셈 연산자\n",
        "multiplication = i * j # 곱셈 연산자\n",
        "\n",
        "print(\"add: \", add)\n",
        "print(\"multi: \", multiplication)"
      ],
      "execution_count": null,
      "outputs": [
        {
          "output_type": "stream",
          "text": [
            "sum:  30\n",
            "multi:  200\n"
          ],
          "name": "stdout"
        }
      ]
    },
    {
      "cell_type": "markdown",
      "metadata": {
        "id": "gu9_2JT5Da0q"
      },
      "source": [
        "# [각자 실습 해보자]\n",
        "\n",
        "아래의 셀에서 각가 다양한 형식으로 변수를 활용하고, 이를 print() 함수를 통해서 출력해보자.\n"
      ]
    },
    {
      "cell_type": "code",
      "metadata": {
        "id": "J20C2L9a4Nge"
      },
      "source": [
        "# 여기에 ...\n",
        "\n",
        "print()\n",
        "a = \n",
        "\n"
      ],
      "execution_count": null,
      "outputs": []
    }
  ]
}