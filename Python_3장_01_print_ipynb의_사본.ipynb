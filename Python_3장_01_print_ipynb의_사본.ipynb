{
  "nbformat": 4,
  "nbformat_minor": 0,
  "metadata": {
    "colab": {
      "name": "Python_3장_01_print.ipynb의 사본",
      "provenance": [],
      "collapsed_sections": [],
      "include_colab_link": true
    },
    "kernelspec": {
      "name": "python3",
      "display_name": "Python 3"
    }
  },
  "cells": [
    {
      "cell_type": "markdown",
      "metadata": {
        "id": "view-in-github",
        "colab_type": "text"
      },
      "source": [
        "<a href=\"https://colab.research.google.com/github/whtmdgn1409/PYTHON/blob/main/Python_3%EC%9E%A5_01_print_ipynb%EC%9D%98_%EC%82%AC%EB%B3%B8.ipynb\" target=\"_parent\"><img src=\"https://colab.research.google.com/assets/colab-badge.svg\" alt=\"Open In Colab\"/></a>"
      ]
    },
    {
      "cell_type": "markdown",
      "metadata": {
        "id": "Sz54ku-XIIFB"
      },
      "source": [
        "# 파이썬 언어 시작\n",
        "- 이제 부터 파이썬 언어를 하나씩 공부해가면서 챗봇을 만들어볼 것이다.\n",
        "- 처음이니까 조금씩 어려울 수도 있다.\n",
        "- 그럴때는, 어렵다는 생각보다...\n",
        "- 왜 이럴까? \n",
        "- 왜? 왜? 왜? 라는 생각을 자주하길 바란다."
      ]
    },
    {
      "cell_type": "code",
      "metadata": {
        "id": "nhLHRQRLomxu",
        "outputId": "c3b57cf9-d7d9-43e2-f6bf-a9b990326183",
        "colab": {
          "base_uri": "https://localhost:8080/",
          "height": 52
        }
      },
      "source": [
        "# Sharp(샵) 기호로 시작되는 줄은 주석이다.\n",
        "# 즉, 지금 읽고 있는 이 줄들은 모두 주석이다. \n",
        "# 주석은, 프로그램의 실행과는 상관없이 코드의 설명 등에 도움되는 정보를 기입하는 문장을 말한다.\n",
        "# 이 책에서도 #으로 시작되는 줄들은 '주석' 기능을 이용해서 설명을 하고 있다.\n",
        "\n",
        "# print() 함수는 괄호() 안의 내용물(파라미터)을 화면에 출력해준다.\n",
        "\n",
        "# 아래는 1이라는 숫자값을 출력한다.\n",
        "# print()는 '함수'라는 물건인데, ()안의 내용물을 화면에 출력해준다.\n",
        "print(1)\n",
        "\n",
        "# print() 함수를 통해 문자열도 출력할 수 있다.\n",
        "# 즉, print() 함수의 괄호 내부에 출력할 내용을 저어주면 되기 때문이다.\n",
        "# \" \" 또는 ' '로 묶인 부분을 문자열(string)이라고 한다.\n",
        "# 문자열은 향후에 자세하게 설명한다.\n",
        "print(\"Hello World!\")\n",
        "\n",
        "# 이 코드를 실행하려면 \n",
        "# 이 셀(cell) 좌측 상단의 삼각형 모양의 실행 아이콘을 클릭하거나\n",
        "# Ctrl+Enter 키를 누르면 된다."
      ],
      "execution_count": null,
      "outputs": [
        {
          "output_type": "stream",
          "text": [
            "1\n",
            "Hello World!\n"
          ],
          "name": "stdout"
        }
      ]
    },
    {
      "cell_type": "code",
      "metadata": {
        "id": "IGZnGc0i2RIW",
        "outputId": "a58883cf-c71e-4f78-84c8-8734b543403c",
        "colab": {
          "base_uri": "https://localhost:8080/",
          "height": 52
        }
      },
      "source": [
        "# 숫자 1을 출력하고 싶으면...\n",
        "print(1)\n",
        "\n",
        "# 문자열 \"1\"을 출력하고 싶으면...\n",
        "print(\"1\")\n",
        "\n",
        "# 물론 위의 2개의 출력 결과는 화면 상에서는 동일하다, \n",
        "# 숫자 1과 문자열 \"1\"은 컴퓨터 내부적으로 저장되는 형식이 다를 뿐이다."
      ],
      "execution_count": null,
      "outputs": [
        {
          "output_type": "stream",
          "text": [
            "1\n",
            "1\n"
          ],
          "name": "stdout"
        }
      ]
    },
    {
      "cell_type": "code",
      "metadata": {
        "id": "G0fOdeksAojy",
        "outputId": "3b021175-548a-4ba6-9809-d2b17dacff02",
        "colab": {
          "base_uri": "https://localhost:8080/",
          "height": 107
        }
      },
      "source": [
        "# print() 함수의 괄호 내부에 적는 값을 파라미터(parameters, 매개 변수)라고 한다.\n",
        "# 파라미터가 없으면 아무것도 출력되지 않고 줄만 바뀐다\n",
        "print(1)\n",
        "print(2)\n",
        "print(3)\n",
        "print()\n",
        "print(4)"
      ],
      "execution_count": null,
      "outputs": [
        {
          "output_type": "stream",
          "text": [
            "1\n",
            "2\n",
            "3\n",
            "\n",
            "4\n"
          ],
          "name": "stdout"
        }
      ]
    },
    {
      "cell_type": "code",
      "metadata": {
        "id": "2oTFhtsiAzEn",
        "outputId": "601462a6-72de-45b2-cf8a-df9506436e5e",
        "colab": {
          "base_uri": "https://localhost:8080/",
          "height": 53
        }
      },
      "source": [
        "# 즉, print() 함수는 출력한 후 자동으로 줄을 바꿔준다.\n",
        "print(\"Hello Python\")\n",
        "\n",
        "# 만약 줄을 바꾸고 싶지 않으면... 아래와 같이 하면 된다.\n",
        "# 이 내용은 지금은 굳이 몰라도 된다.\n",
        "print(\"Hello\", end=\"\")\n",
        "print(\"Python\")"
      ],
      "execution_count": null,
      "outputs": [
        {
          "output_type": "stream",
          "text": [
            "Hello Python\n",
            "HelloPython\n"
          ],
          "name": "stdout"
        }
      ]
    },
    {
      "cell_type": "code",
      "metadata": {
        "id": "Zv8-Z_QEBBqQ",
        "outputId": "f898759c-91e2-4529-807c-0821fe1965e6",
        "colab": {
          "base_uri": "https://localhost:8080/",
          "height": 53
        }
      },
      "source": [
        "# 수식 계산은 계산이 완료된 최종 결과가 출력된다.\n",
        "print(3+7)\n",
        "\n",
        "# 여러 값을 콤마(,)로 구분해서 출력할 수도 있다.\n",
        "print(\"sum is:\", 3+7)"
      ],
      "execution_count": null,
      "outputs": [
        {
          "output_type": "stream",
          "text": [
            "10\n",
            "sum is: 10\n"
          ],
          "name": "stdout"
        }
      ]
    },
    {
      "cell_type": "code",
      "metadata": {
        "id": "z9QS1fRs2Te7",
        "outputId": "a96eccb9-f853-4f3f-b460-fc2f21625ad1",
        "colab": {
          "base_uri": "https://localhost:8080/",
          "height": 52
        }
      },
      "source": [
        "# 문자열은 큰 따옴표와 작은 따옴표 모두 사용할 수 있다.\n",
        "print('Hello')\n",
        "print(\"Hello\")"
      ],
      "execution_count": null,
      "outputs": [
        {
          "output_type": "stream",
          "text": [
            "Hello\n",
            "Hello\n"
          ],
          "name": "stdout"
        }
      ]
    },
    {
      "cell_type": "code",
      "metadata": {
        "id": "hpigPQAi2f4h",
        "outputId": "73c71c80-95d4-4be7-c19c-35587c015158",
        "colab": {
          "base_uri": "https://localhost:8080/",
          "height": 53
        }
      },
      "source": [
        "# 필요한 경우는 큰 따옴표 내부에 작은 따옴표를... 작은 따옴표 내부에 큰 따옴표를 '문자'의 의미로 사용할 수 있다.\n",
        "print(\"This is Jung's Book.\")\n",
        "print('This is Jung\"s Book.')"
      ],
      "execution_count": null,
      "outputs": [
        {
          "output_type": "stream",
          "text": [
            "This is Jung's Book.\n",
            "This is Jung\"s Book.\n"
          ],
          "name": "stdout"
        }
      ]
    },
    {
      "cell_type": "code",
      "metadata": {
        "id": "_zCA3XIZ2voh",
        "outputId": "63538629-a4ed-4726-95ce-2892a4365a34",
        "colab": {
          "base_uri": "https://localhost:8080/",
          "height": 136
        }
      },
      "source": [
        "# 아래의 경우는 에러가 난다.\n",
        "# 어디가 문자열의 끝인지 불 명확하기 때문이다.\n",
        "print('This is Jung's Book.')\n"
      ],
      "execution_count": null,
      "outputs": [
        {
          "output_type": "error",
          "ename": "SyntaxError",
          "evalue": "ignored",
          "traceback": [
            "\u001b[0;36m  File \u001b[0;32m\"<ipython-input-5-5ff4166757df>\"\u001b[0;36m, line \u001b[0;32m3\u001b[0m\n\u001b[0;31m    print('This is Jung's Book.')\u001b[0m\n\u001b[0m                        ^\u001b[0m\n\u001b[0;31mSyntaxError\u001b[0m\u001b[0;31m:\u001b[0m invalid syntax\n"
          ]
        }
      ]
    },
    {
      "cell_type": "code",
      "metadata": {
        "id": "erdb_h3H2buU",
        "outputId": "8e8ab693-61d5-424b-ae8f-0c36b06f6664",
        "colab": {
          "base_uri": "https://localhost:8080/",
          "height": 122
        }
      },
      "source": [
        "# 여러줄에 걸친 긴 문자열은 아래와 같이 할 수도 있다.\n",
        "\n",
        "print(\"\"\"여러 줄에 걸친 \n",
        "            문자열은 큰 따옴표로 \n",
        "       감쌀수 있습니다.\"\"\")\n",
        "\n",
        "print('''여러 줄에 걸친 \n",
        "            문자열은 작은 따옴표로도\n",
        "       감쌀수 있습니다.''')"
      ],
      "execution_count": null,
      "outputs": [
        {
          "output_type": "stream",
          "text": [
            "여러 줄에 걸친 \n",
            "            문자열은 큰 따옴표로 \n",
            "       감쌀수 있습니다.\n",
            "여러 줄에 걸친 \n",
            "            문자열은 작은 따옴표로도\n",
            "       감쌀수 있습니다.\n"
          ],
          "name": "stdout"
        }
      ]
    },
    {
      "cell_type": "markdown",
      "metadata": {
        "id": "LjzTGcRGDBCA"
      },
      "source": [
        "# [각자 실습 해보자]\n",
        "- 아래의 셀에서 각자 다양한 형식으로 print() 함수를 활용해보자.\n",
        "- 뭔가 이상한 짓을 많이 해볼수록 도움된다."
      ]
    },
    {
      "cell_type": "code",
      "metadata": {
        "id": "NuKpFtWhDJd6",
        "outputId": "cc1b29e5-8215-49d8-e52e-058ef2b94359",
        "colab": {
          "base_uri": "https://localhost:8080/",
          "height": 71
        }
      },
      "source": [
        "# 여기서 실습하자.\n",
        "# 예를 들면 아래는 어떻게 출력될까?\n",
        "\n",
        "print((((((1))))))\n",
        "(3+4)*5\n",
        "\n",
        "print('a','b', 'c')\n",
        "print('abc')"
      ],
      "execution_count": null,
      "outputs": [
        {
          "output_type": "stream",
          "text": [
            "1\n",
            "a b c\n",
            "abc\n"
          ],
          "name": "stdout"
        }
      ]
    }
  ]
}